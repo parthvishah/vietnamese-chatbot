{
  "nbformat": 4,
  "nbformat_minor": 0,
  "metadata": {
    "colab": {
      "name": "plotting.ipynb",
      "provenance": []
    },
    "kernelspec": {
      "name": "python3",
      "display_name": "Python 3"
    },
    "accelerator": "GPU",
    "widgets": {
      "application/vnd.jupyter.widget-state+json": {
        "9b23f854c0d94d2a994ede5ce1c09f55": {
          "model_module": "@jupyter-widgets/controls",
          "model_name": "HBoxModel",
          "state": {
            "_view_name": "HBoxView",
            "_dom_classes": [],
            "_model_name": "HBoxModel",
            "_view_module": "@jupyter-widgets/controls",
            "_model_module_version": "1.5.0",
            "_view_count": null,
            "_view_module_version": "1.5.0",
            "box_style": "",
            "layout": "IPY_MODEL_1d99c072419a429db590c3004a4fadb3",
            "_model_module": "@jupyter-widgets/controls",
            "children": [
              "IPY_MODEL_fb9e9aa6ee4b4bb1834a435b183f4848",
              "IPY_MODEL_b32bc8aa655b41d9b15955447028a195"
            ]
          }
        },
        "1d99c072419a429db590c3004a4fadb3": {
          "model_module": "@jupyter-widgets/base",
          "model_name": "LayoutModel",
          "state": {
            "_view_name": "LayoutView",
            "grid_template_rows": null,
            "right": null,
            "justify_content": null,
            "_view_module": "@jupyter-widgets/base",
            "overflow": null,
            "_model_module_version": "1.2.0",
            "_view_count": null,
            "flex_flow": null,
            "width": null,
            "min_width": null,
            "border": null,
            "align_items": null,
            "bottom": null,
            "_model_module": "@jupyter-widgets/base",
            "top": null,
            "grid_column": null,
            "overflow_y": null,
            "overflow_x": null,
            "grid_auto_flow": null,
            "grid_area": null,
            "grid_template_columns": null,
            "flex": null,
            "_model_name": "LayoutModel",
            "justify_items": null,
            "grid_row": null,
            "max_height": null,
            "align_content": null,
            "visibility": null,
            "align_self": null,
            "height": null,
            "min_height": null,
            "padding": null,
            "grid_auto_rows": null,
            "grid_gap": null,
            "max_width": null,
            "order": null,
            "_view_module_version": "1.2.0",
            "grid_template_areas": null,
            "object_position": null,
            "object_fit": null,
            "grid_auto_columns": null,
            "margin": null,
            "display": null,
            "left": null
          }
        },
        "fb9e9aa6ee4b4bb1834a435b183f4848": {
          "model_module": "@jupyter-widgets/controls",
          "model_name": "FloatProgressModel",
          "state": {
            "_view_name": "ProgressView",
            "style": "IPY_MODEL_60b933cd0942477a8648ef452b90a51a",
            "_dom_classes": [],
            "description": "100%",
            "_model_name": "FloatProgressModel",
            "bar_style": "success",
            "max": 6,
            "_view_module": "@jupyter-widgets/controls",
            "_model_module_version": "1.5.0",
            "value": 6,
            "_view_count": null,
            "_view_module_version": "1.5.0",
            "orientation": "horizontal",
            "min": 0,
            "description_tooltip": null,
            "_model_module": "@jupyter-widgets/controls",
            "layout": "IPY_MODEL_70c798d056a94e69adaa890fbdfd7e89"
          }
        },
        "b32bc8aa655b41d9b15955447028a195": {
          "model_module": "@jupyter-widgets/controls",
          "model_name": "HTMLModel",
          "state": {
            "_view_name": "HTMLView",
            "style": "IPY_MODEL_92ec903de9d846c88cb0a81dcb248185",
            "_dom_classes": [],
            "description": "",
            "_model_name": "HTMLModel",
            "placeholder": "​",
            "_view_module": "@jupyter-widgets/controls",
            "_model_module_version": "1.5.0",
            "value": " 6/6 [00:51&lt;00:00,  8.56s/it]",
            "_view_count": null,
            "_view_module_version": "1.5.0",
            "description_tooltip": null,
            "_model_module": "@jupyter-widgets/controls",
            "layout": "IPY_MODEL_ac4d1c908cd24a5d838504df3b93cec8"
          }
        },
        "60b933cd0942477a8648ef452b90a51a": {
          "model_module": "@jupyter-widgets/controls",
          "model_name": "ProgressStyleModel",
          "state": {
            "_view_name": "StyleView",
            "_model_name": "ProgressStyleModel",
            "description_width": "initial",
            "_view_module": "@jupyter-widgets/base",
            "_model_module_version": "1.5.0",
            "_view_count": null,
            "_view_module_version": "1.2.0",
            "bar_color": null,
            "_model_module": "@jupyter-widgets/controls"
          }
        },
        "70c798d056a94e69adaa890fbdfd7e89": {
          "model_module": "@jupyter-widgets/base",
          "model_name": "LayoutModel",
          "state": {
            "_view_name": "LayoutView",
            "grid_template_rows": null,
            "right": null,
            "justify_content": null,
            "_view_module": "@jupyter-widgets/base",
            "overflow": null,
            "_model_module_version": "1.2.0",
            "_view_count": null,
            "flex_flow": null,
            "width": null,
            "min_width": null,
            "border": null,
            "align_items": null,
            "bottom": null,
            "_model_module": "@jupyter-widgets/base",
            "top": null,
            "grid_column": null,
            "overflow_y": null,
            "overflow_x": null,
            "grid_auto_flow": null,
            "grid_area": null,
            "grid_template_columns": null,
            "flex": null,
            "_model_name": "LayoutModel",
            "justify_items": null,
            "grid_row": null,
            "max_height": null,
            "align_content": null,
            "visibility": null,
            "align_self": null,
            "height": null,
            "min_height": null,
            "padding": null,
            "grid_auto_rows": null,
            "grid_gap": null,
            "max_width": null,
            "order": null,
            "_view_module_version": "1.2.0",
            "grid_template_areas": null,
            "object_position": null,
            "object_fit": null,
            "grid_auto_columns": null,
            "margin": null,
            "display": null,
            "left": null
          }
        },
        "92ec903de9d846c88cb0a81dcb248185": {
          "model_module": "@jupyter-widgets/controls",
          "model_name": "DescriptionStyleModel",
          "state": {
            "_view_name": "StyleView",
            "_model_name": "DescriptionStyleModel",
            "description_width": "",
            "_view_module": "@jupyter-widgets/base",
            "_model_module_version": "1.5.0",
            "_view_count": null,
            "_view_module_version": "1.2.0",
            "_model_module": "@jupyter-widgets/controls"
          }
        },
        "ac4d1c908cd24a5d838504df3b93cec8": {
          "model_module": "@jupyter-widgets/base",
          "model_name": "LayoutModel",
          "state": {
            "_view_name": "LayoutView",
            "grid_template_rows": null,
            "right": null,
            "justify_content": null,
            "_view_module": "@jupyter-widgets/base",
            "overflow": null,
            "_model_module_version": "1.2.0",
            "_view_count": null,
            "flex_flow": null,
            "width": null,
            "min_width": null,
            "border": null,
            "align_items": null,
            "bottom": null,
            "_model_module": "@jupyter-widgets/base",
            "top": null,
            "grid_column": null,
            "overflow_y": null,
            "overflow_x": null,
            "grid_auto_flow": null,
            "grid_area": null,
            "grid_template_columns": null,
            "flex": null,
            "_model_name": "LayoutModel",
            "justify_items": null,
            "grid_row": null,
            "max_height": null,
            "align_content": null,
            "visibility": null,
            "align_self": null,
            "height": null,
            "min_height": null,
            "padding": null,
            "grid_auto_rows": null,
            "grid_gap": null,
            "max_width": null,
            "order": null,
            "_view_module_version": "1.2.0",
            "grid_template_areas": null,
            "object_position": null,
            "object_fit": null,
            "grid_auto_columns": null,
            "margin": null,
            "display": null,
            "left": null
          }
        },
        "7e3c8e9bcb9c4d27a369d6c06b056284": {
          "model_module": "@jupyter-widgets/controls",
          "model_name": "HBoxModel",
          "state": {
            "_view_name": "HBoxView",
            "_dom_classes": [],
            "_model_name": "HBoxModel",
            "_view_module": "@jupyter-widgets/controls",
            "_model_module_version": "1.5.0",
            "_view_count": null,
            "_view_module_version": "1.5.0",
            "box_style": "",
            "layout": "IPY_MODEL_bb05075971fe40909f13ca4f2f784518",
            "_model_module": "@jupyter-widgets/controls",
            "children": [
              "IPY_MODEL_c7c1696f654e418aa8750d8f701a324b",
              "IPY_MODEL_915c2122b445482a919163d1954c3264"
            ]
          }
        },
        "bb05075971fe40909f13ca4f2f784518": {
          "model_module": "@jupyter-widgets/base",
          "model_name": "LayoutModel",
          "state": {
            "_view_name": "LayoutView",
            "grid_template_rows": null,
            "right": null,
            "justify_content": null,
            "_view_module": "@jupyter-widgets/base",
            "overflow": null,
            "_model_module_version": "1.2.0",
            "_view_count": null,
            "flex_flow": null,
            "width": null,
            "min_width": null,
            "border": null,
            "align_items": null,
            "bottom": null,
            "_model_module": "@jupyter-widgets/base",
            "top": null,
            "grid_column": null,
            "overflow_y": null,
            "overflow_x": null,
            "grid_auto_flow": null,
            "grid_area": null,
            "grid_template_columns": null,
            "flex": null,
            "_model_name": "LayoutModel",
            "justify_items": null,
            "grid_row": null,
            "max_height": null,
            "align_content": null,
            "visibility": null,
            "align_self": null,
            "height": null,
            "min_height": null,
            "padding": null,
            "grid_auto_rows": null,
            "grid_gap": null,
            "max_width": null,
            "order": null,
            "_view_module_version": "1.2.0",
            "grid_template_areas": null,
            "object_position": null,
            "object_fit": null,
            "grid_auto_columns": null,
            "margin": null,
            "display": null,
            "left": null
          }
        },
        "c7c1696f654e418aa8750d8f701a324b": {
          "model_module": "@jupyter-widgets/controls",
          "model_name": "FloatProgressModel",
          "state": {
            "_view_name": "ProgressView",
            "style": "IPY_MODEL_285c7296ef1e49f580fb53de1a43a2c7",
            "_dom_classes": [],
            "description": "100%",
            "_model_name": "FloatProgressModel",
            "bar_style": "success",
            "max": 6,
            "_view_module": "@jupyter-widgets/controls",
            "_model_module_version": "1.5.0",
            "value": 6,
            "_view_count": null,
            "_view_module_version": "1.5.0",
            "orientation": "horizontal",
            "min": 0,
            "description_tooltip": null,
            "_model_module": "@jupyter-widgets/controls",
            "layout": "IPY_MODEL_e9920febf3e34e129d0122b01ac11ce9"
          }
        },
        "915c2122b445482a919163d1954c3264": {
          "model_module": "@jupyter-widgets/controls",
          "model_name": "HTMLModel",
          "state": {
            "_view_name": "HTMLView",
            "style": "IPY_MODEL_a6629968749b4138a611f61551f5e628",
            "_dom_classes": [],
            "description": "",
            "_model_name": "HTMLModel",
            "placeholder": "​",
            "_view_module": "@jupyter-widgets/controls",
            "_model_module_version": "1.5.0",
            "value": " 6/6 [01:29&lt;00:00, 14.99s/it]",
            "_view_count": null,
            "_view_module_version": "1.5.0",
            "description_tooltip": null,
            "_model_module": "@jupyter-widgets/controls",
            "layout": "IPY_MODEL_0a7265555cf741dd999d08dfe3b39c09"
          }
        },
        "285c7296ef1e49f580fb53de1a43a2c7": {
          "model_module": "@jupyter-widgets/controls",
          "model_name": "ProgressStyleModel",
          "state": {
            "_view_name": "StyleView",
            "_model_name": "ProgressStyleModel",
            "description_width": "initial",
            "_view_module": "@jupyter-widgets/base",
            "_model_module_version": "1.5.0",
            "_view_count": null,
            "_view_module_version": "1.2.0",
            "bar_color": null,
            "_model_module": "@jupyter-widgets/controls"
          }
        },
        "e9920febf3e34e129d0122b01ac11ce9": {
          "model_module": "@jupyter-widgets/base",
          "model_name": "LayoutModel",
          "state": {
            "_view_name": "LayoutView",
            "grid_template_rows": null,
            "right": null,
            "justify_content": null,
            "_view_module": "@jupyter-widgets/base",
            "overflow": null,
            "_model_module_version": "1.2.0",
            "_view_count": null,
            "flex_flow": null,
            "width": null,
            "min_width": null,
            "border": null,
            "align_items": null,
            "bottom": null,
            "_model_module": "@jupyter-widgets/base",
            "top": null,
            "grid_column": null,
            "overflow_y": null,
            "overflow_x": null,
            "grid_auto_flow": null,
            "grid_area": null,
            "grid_template_columns": null,
            "flex": null,
            "_model_name": "LayoutModel",
            "justify_items": null,
            "grid_row": null,
            "max_height": null,
            "align_content": null,
            "visibility": null,
            "align_self": null,
            "height": null,
            "min_height": null,
            "padding": null,
            "grid_auto_rows": null,
            "grid_gap": null,
            "max_width": null,
            "order": null,
            "_view_module_version": "1.2.0",
            "grid_template_areas": null,
            "object_position": null,
            "object_fit": null,
            "grid_auto_columns": null,
            "margin": null,
            "display": null,
            "left": null
          }
        },
        "a6629968749b4138a611f61551f5e628": {
          "model_module": "@jupyter-widgets/controls",
          "model_name": "DescriptionStyleModel",
          "state": {
            "_view_name": "StyleView",
            "_model_name": "DescriptionStyleModel",
            "description_width": "",
            "_view_module": "@jupyter-widgets/base",
            "_model_module_version": "1.5.0",
            "_view_count": null,
            "_view_module_version": "1.2.0",
            "_model_module": "@jupyter-widgets/controls"
          }
        },
        "0a7265555cf741dd999d08dfe3b39c09": {
          "model_module": "@jupyter-widgets/base",
          "model_name": "LayoutModel",
          "state": {
            "_view_name": "LayoutView",
            "grid_template_rows": null,
            "right": null,
            "justify_content": null,
            "_view_module": "@jupyter-widgets/base",
            "overflow": null,
            "_model_module_version": "1.2.0",
            "_view_count": null,
            "flex_flow": null,
            "width": null,
            "min_width": null,
            "border": null,
            "align_items": null,
            "bottom": null,
            "_model_module": "@jupyter-widgets/base",
            "top": null,
            "grid_column": null,
            "overflow_y": null,
            "overflow_x": null,
            "grid_auto_flow": null,
            "grid_area": null,
            "grid_template_columns": null,
            "flex": null,
            "_model_name": "LayoutModel",
            "justify_items": null,
            "grid_row": null,
            "max_height": null,
            "align_content": null,
            "visibility": null,
            "align_self": null,
            "height": null,
            "min_height": null,
            "padding": null,
            "grid_auto_rows": null,
            "grid_gap": null,
            "max_width": null,
            "order": null,
            "_view_module_version": "1.2.0",
            "grid_template_areas": null,
            "object_position": null,
            "object_fit": null,
            "grid_auto_columns": null,
            "margin": null,
            "display": null,
            "left": null
          }
        }
      }
    }
  },
  "cells": [
    {
      "cell_type": "markdown",
      "metadata": {
        "id": "m-rfIsMb4DK8"
      },
      "source": [
        "# Inference\n"
      ]
    },
    {
      "cell_type": "code",
      "metadata": {
        "colab": {
          "base_uri": "https://localhost:8080/"
        },
        "id": "sraJuP_fuAlO",
        "outputId": "f1c2a495-90cb-4554-8a1a-1918b11bb2b4"
      },
      "source": [
        "from google.colab import drive\n",
        "drive.mount('/content/drive')"
      ],
      "execution_count": 1,
      "outputs": [
        {
          "output_type": "stream",
          "text": [
            "Drive already mounted at /content/drive; to attempt to forcibly remount, call drive.mount(\"/content/drive\", force_remount=True).\n"
          ],
          "name": "stdout"
        }
      ]
    },
    {
      "cell_type": "code",
      "metadata": {
        "colab": {
          "base_uri": "https://localhost:8080/"
        },
        "id": "IHTmtX-cuHg8",
        "outputId": "fc42f8a7-e1cd-4109-9616-ba8ea114a1cd"
      },
      "source": [
        "cd /content/drive/MyDrive/machine-translation-testing"
      ],
      "execution_count": 2,
      "outputs": [
        {
          "output_type": "stream",
          "text": [
            "/content/drive/MyDrive/machine-translation-testing\n"
          ],
          "name": "stdout"
        }
      ]
    },
    {
      "cell_type": "code",
      "metadata": {
        "colab": {
          "base_uri": "https://localhost:8080/"
        },
        "id": "YM0g0VjeuMPS",
        "outputId": "f78e9422-5bd9-458d-eb22-c414ba761a21"
      },
      "source": [
        "!ls"
      ],
      "execution_count": 3,
      "outputs": [
        {
          "output_type": "stream",
          "text": [
            " args.py\t\t       lang_obj.pkl     saved_models\n",
            " bleu_score.py\t\t       nnet_models.py   train_attention.py\n",
            " data\t\t\t       plots_dir        train_utilities.py\n",
            " dataset_helper.py\t       plot_test.py     utils.py\n",
            " global_variables.py\t       plotting.ipynb\n",
            "'Hyperparameter Tuning.xlsx'   __pycache__\n"
          ],
          "name": "stdout"
        }
      ]
    },
    {
      "cell_type": "code",
      "metadata": {
        "id": "uuluMO6kuO0_"
      },
      "source": [
        "# =============== Import Modules ==============\n",
        "import os\n",
        "import time\n",
        "import torch\n",
        "from torch import optim\n",
        "import torch.nn as nn\n",
        "import torch.nn.functional as F\n",
        "from torch.utils.data import DataLoader\n",
        "from torch.optim.lr_scheduler import ReduceLROnPlateau\n",
        "from functools import partial\n",
        "import sys\n",
        "import logging as log\n",
        "from datetime import datetime as dt\n",
        "import time\n",
        "import random\n",
        "import numpy as np\n",
        "import matplotlib.pyplot as plt\n",
        "%matplotlib inline\n",
        "import matplotlib.ticker as ticker\n",
        "import math\n",
        "import copy\n",
        "from collections import namedtuple\n",
        "from tqdm import notebook"
      ],
      "execution_count": 4,
      "outputs": []
    },
    {
      "cell_type": "code",
      "metadata": {
        "id": "_XPkbtMgunJJ"
      },
      "source": [
        "# =============== Self Defined ===============\n",
        "from args import args, check_args\n",
        "import dataset_helper\n",
        "import nnet_models\n",
        "import train_utilities\n",
        "import global_variables\n",
        "import utils"
      ],
      "execution_count": 5,
      "outputs": []
    },
    {
      "cell_type": "code",
      "metadata": {
        "id": "9RGPx4KA9ILm"
      },
      "source": [
        "project_dir = '/content/drive/MyDrive/machine-translation-testing/'\n",
        "plots_dir = os.path.join(project_dir, 'plots_dir')"
      ],
      "execution_count": 6,
      "outputs": []
    },
    {
      "cell_type": "code",
      "metadata": {
        "id": "sZ3hz3Usut-j"
      },
      "source": [
        "device = torch.device(\"cuda\" if torch.cuda.is_available() else \"cpu\")\n",
        "source_name = 'vi'\n",
        "target_name = 'en'\n",
        "main_data_path = os.path.join(project_dir,'data/iwslt-v-en/')\n",
        "base_saved_models_dir = os.path.join(project_dir,'saved_models/')\n",
        "saved_models_dir = os.path.join(base_saved_models_dir, source_name+'2'+target_name)\n",
        "bs = 128\n",
        "enc_emb = 512\n",
        "enc_hidden = 512\n",
        "enc_layers = 1\n",
        "rnn_type = 'lstm'\n",
        "dec_emb = 512\n",
        "dec_hidden = 1024\n",
        "dec_layers = 1\n",
        "\n",
        "learning_rate = 0.25\n",
        "num_epochs = 15\n",
        "attn_flag = True\n",
        "beam_size = 3"
      ],
      "execution_count": 7,
      "outputs": []
    },
    {
      "cell_type": "code",
      "metadata": {
        "id": "bce4A_Rhu_Kn"
      },
      "source": [
        "# get data paths\n",
        "path_to_train_data = {'source':main_data_path+'train.tok.'+source_name, 'target':main_data_path+'train.tok.'+target_name}\n",
        "path_to_dev_data = {'source': main_data_path+'dev.tok.'+source_name, 'target':main_data_path+'dev.tok.'+target_name}\n",
        "path_to_test_data = {'source': main_data_path+'test.tok.'+source_name, 'target':main_data_path+'test.tok.'+target_name}"
      ],
      "execution_count": 8,
      "outputs": []
    },
    {
      "cell_type": "code",
      "metadata": {
        "id": "nfl3mm8NvM3Y"
      },
      "source": [
        "train, val, test, en_lang, vi_lang = dataset_helper.train_val_load(\"\", main_data_path)"
      ],
      "execution_count": 9,
      "outputs": []
    },
    {
      "cell_type": "code",
      "metadata": {
        "colab": {
          "base_uri": "https://localhost:8080/"
        },
        "id": "_JIsGznYwuJH",
        "outputId": "3b4e6796-7ab7-4564-c040-8f6daaee7603"
      },
      "source": [
        "print(\"English has a vocab size of {}.\".format(en_lang.n_words))\n",
        "print(\"Vietnamese has a vocab size of {}.\".format(vi_lang.n_words))"
      ],
      "execution_count": 10,
      "outputs": [
        {
          "output_type": "stream",
          "text": [
            "English has a vocab size of 15915.\n",
            "Vietnamese has a vocab size of 13263.\n"
          ],
          "name": "stdout"
        }
      ]
    },
    {
      "cell_type": "code",
      "metadata": {
        "id": "1YZk2jMbwx8I"
      },
      "source": [
        "MAX_LEN = int(train['en_len'].quantile(0.95))"
      ],
      "execution_count": 11,
      "outputs": []
    },
    {
      "cell_type": "code",
      "metadata": {
        "id": "1qCBe9Luwuu7"
      },
      "source": [
        "bs_dict = {'train':bs, 'validate':1, 'test':1}\n",
        "shuffle_dict = {'train':True, 'validate':False, 'test':False}\n",
        "\n",
        "train_used = train\n",
        "val_used = val\n",
        "\n",
        "collate_fn_dict = {'train':partial(dataset_helper.vocab_collate_func, MAX_LEN = MAX_LEN), 'validate':dataset_helper.vocab_collate_func_val, 'test': dataset_helper.vocab_collate_func_val}\n",
        "\n",
        "transformed_dataset = {'train': dataset_helper.Vietnamese(train_used), 'validate': dataset_helper.Vietnamese(val_used, val = True), 'test':dataset_helper.Vietnamese(test, val= True)}\n",
        "\n",
        "dataloader = {x: DataLoader(transformed_dataset[x], batch_size=bs_dict[x], collate_fn=collate_fn_dict[x], shuffle=shuffle_dict[x], num_workers=0) for x in ['train', 'validate', 'test']} "
      ],
      "execution_count": 12,
      "outputs": []
    },
    {
      "cell_type": "code",
      "metadata": {
        "colab": {
          "base_uri": "https://localhost:8080/"
        },
        "id": "gmht2hLhw5d0",
        "outputId": "61e71026-928d-492f-afc5-7d059d8b1595"
      },
      "source": [
        "encoder_w_att = nnet_models.EncoderRNN(input_size = vi_lang.n_words, embed_dim = enc_emb, hidden_size = enc_hidden, n_layers=enc_layers, rnn_type=rnn_type).to(device)\n",
        "decoder_w_att = nnet_models.AttentionDecoderRNN(output_size = en_lang.n_words, embed_dim = dec_emb, hidden_size = dec_hidden, n_layers = dec_layers, attention = attn_flag).to(device)"
      ],
      "execution_count": 13,
      "outputs": [
        {
          "output_type": "stream",
          "text": [
            "/usr/local/lib/python3.6/dist-packages/torch/nn/modules/rnn.py:61: UserWarning: dropout option adds dropout after all but last recurrent layer, so non-zero dropout expects num_layers greater than 1, but got dropout=0.2 and num_layers=1\n",
            "  \"num_layers={}\".format(dropout, num_layers))\n"
          ],
          "name": "stderr"
        }
      ]
    },
    {
      "cell_type": "code",
      "metadata": {
        "colab": {
          "base_uri": "https://localhost:8080/"
        },
        "id": "fwlPwzhUKu67",
        "outputId": "6e9cf458-2230-45a1-bb64-f40ed4ca9250"
      },
      "source": [
        "encoder_wo_att = nnet_models.EncoderRNN(input_size = vi_lang.n_words, embed_dim = enc_emb, hidden_size = enc_hidden, n_layers=enc_layers, rnn_type=rnn_type).to(device)\n",
        "decoder_wo_att = nnet_models.AttentionDecoderRNN(output_size = en_lang.n_words, embed_dim = dec_emb, hidden_size = dec_hidden, n_layers = dec_layers, attention = False).to(device)"
      ],
      "execution_count": 14,
      "outputs": [
        {
          "output_type": "stream",
          "text": [
            "/usr/local/lib/python3.6/dist-packages/torch/nn/modules/rnn.py:61: UserWarning: dropout option adds dropout after all but last recurrent layer, so non-zero dropout expects num_layers greater than 1, but got dropout=0.2 and num_layers=1\n",
            "  \"num_layers={}\".format(dropout, num_layers))\n"
          ],
          "name": "stderr"
        }
      ]
    },
    {
      "cell_type": "code",
      "metadata": {
        "id": "2JDVKEhEw-fF"
      },
      "source": [
        "optimizer = 'sgd'\n",
        "\n",
        "if optimizer == 'sgd':\n",
        "  encoder_optimizer = optim.SGD(encoder_w_att.parameters(), lr = learning_rate, nesterov = True, momentum = 0.99)\n",
        "  decoder_optimizer = optim.SGD(decoder_w_att.parameters(), lr = learning_rate,nesterov = True, momentum = 0.99)\n",
        "elif optimizer == 'adam':\n",
        "  encoder_optimizer = optim.Adam(encoder_w_att.parameters(), lr = 5e-3)\n",
        "  decoder_optimizer = optim.Adam(decoder_w_att.parameters(), lr = 5e-3)\n",
        "else:\n",
        "\t\traise ValueError('Invalid optimizer!')"
      ],
      "execution_count": 15,
      "outputs": []
    },
    {
      "cell_type": "code",
      "metadata": {
        "id": "3LsLAn_kxGYW"
      },
      "source": [
        "enc_scheduler = ReduceLROnPlateau(encoder_optimizer, min_lr=1e-4, factor = 0.5, patience=0)\n",
        "dec_scheduler = ReduceLROnPlateau(decoder_optimizer, min_lr=1e-4, factor = 0.5, patience=0)\n",
        "criterion = nn.NLLLoss(ignore_index = global_variables.PAD_IDX)"
      ],
      "execution_count": 16,
      "outputs": []
    },
    {
      "cell_type": "code",
      "metadata": {
        "id": "owAUlKxoxI2-"
      },
      "source": [
        "#encoder_save = '{}_att_{}_enc_{}_layer'.format(rnn_type, optimizer, enc_layers)\n",
        "#decoder_save = '{}_att_{}_dec_{}_layer'.format(rnn_type, optimizer, dec_layers)"
      ],
      "execution_count": 17,
      "outputs": []
    },
    {
      "cell_type": "code",
      "metadata": {
        "colab": {
          "base_uri": "https://localhost:8080/"
        },
        "id": "ghzXb-VlAk7Z",
        "outputId": "baf03e82-7408-4d73-c886-d199c324b6bc"
      },
      "source": [
        "# load attn model\n",
        "encoder_w_att.load_state_dict(torch.load('/content/drive/MyDrive/machine-translation-testing/saved_models/attn_lstm_128bs_512hs_512em_sgd_5beam_1layer/lstm_att_128bs_512hs_sgd_5beam_enc_1_layer.pth'))\n",
        "decoder_w_att.load_state_dict(torch.load('/content/drive/MyDrive/machine-translation-testing/saved_models/attn_lstm_128bs_512hs_512em_sgd_5beam_1layer/lstm_att_128bs_512hs_sgd_5beam_dec_1_layer.pth'))"
      ],
      "execution_count": 18,
      "outputs": [
        {
          "output_type": "execute_result",
          "data": {
            "text/plain": [
              "<All keys matched successfully>"
            ]
          },
          "metadata": {
            "tags": []
          },
          "execution_count": 18
        }
      ]
    },
    {
      "cell_type": "code",
      "metadata": {
        "colab": {
          "base_uri": "https://localhost:8080/"
        },
        "id": "-oiqTuvvLVKg",
        "outputId": "71e776b8-3a3a-43d3-a757-65910c78480f"
      },
      "source": [
        "# load no attn model\n",
        "encoder_wo_att.load_state_dict(torch.load('/content/drive/MyDrive/machine-translation-testing/saved_models/wo_attn_lstm_128bs_512hs_512em_sgd_5beam_1layer/lstm_wo_att_128bs_512hs_sgd_5beam_enc_1_layer.pth'))\n",
        "decoder_wo_att.load_state_dict(torch.load('/content/drive/MyDrive/machine-translation-testing/saved_models/wo_attn_lstm_128bs_512hs_512em_sgd_5beam_1layer/lstm_wo_att_128bs_512hs_sgd_5beam_dec_1_layer.pth'))"
      ],
      "execution_count": 19,
      "outputs": [
        {
          "output_type": "execute_result",
          "data": {
            "text/plain": [
              "<All keys matched successfully>"
            ]
          },
          "metadata": {
            "tags": []
          },
          "execution_count": 19
        }
      ]
    },
    {
      "cell_type": "code",
      "metadata": {
        "id": "DPyd6ZtW_-vz"
      },
      "source": [
        "def get_binned_bl_score(encoder, decoder, val_dataset, attn_flag, beam_size, location, collate, lang_en, lang_vi, min_len = 0, max_len = 30):\n",
        "\t\n",
        "  '''\n",
        "\treturn plot for binned bleu scores\n",
        "\t'''\n",
        "  plt.style.use('seaborn-white')\n",
        "  attn_str = 'attention' if attn_flag == True else 'no_attention'\n",
        "\n",
        "  # set bins\n",
        "  len_threshold = np.arange(min_len, max_len + 1, 5)\n",
        "  # intiate bleu score list\n",
        "  bin_bl_score = np.zeros(len(len_threshold))\n",
        "\n",
        "  for i in notebook.tqdm(range(1, len(len_threshold)), total = len(len_threshold) - 1):\n",
        "    # set lower and upper bound buckets\n",
        "    lower_bound = len_threshold[i-1]\n",
        "    upper_bound = len_threshold[i]\n",
        "\n",
        "    # subset val df\n",
        "    temp_dataset = copy.deepcopy(val_dataset);\n",
        "    temp_dataset.df = temp_dataset.df[(temp_dataset.df['vi_len'] > lower_bound) & (temp_dataset.df['vi_len'] <= upper_bound)];\n",
        "\n",
        "    # val dataloader\n",
        "    temp_loader = DataLoader(temp_dataset, batch_size = 1, collate_fn = collate, shuffle = False, num_workers=0)\n",
        "\n",
        "    # evaluate\n",
        "    bin_bl_score[i], _, _, _ = train_utilities.validation_beam_search(encoder, decoder, temp_loader, lang_en, lang_vi, attn_str, beam_size, verbose = False)\n",
        "\n",
        "  # plot bleu score vs. sent lengh\n",
        "  len_threshold = len_threshold[1:]\n",
        "  bin_bl_score = bin_bl_score[1:]\n",
        "  fig = plt.figure()\n",
        "  plt.plot(len_threshold, bin_bl_score, '--x', markersize=10)\n",
        "  plt.ylim(0, np.max(bin_bl_score)+1)\n",
        "  plt.xlabel('sentence length')\n",
        "  plt.ylabel('BLEU score')\n",
        "  plt.title('BLEU Score vs. Sentence Length')\n",
        "  fig.tight_layout()\n",
        "  #fig.savefig(os.path.join(location,'binned_bl_score_{}.png'.format(time.strftime(\"%Y%m%d-%H.%M.%S\"))))\n",
        "\n",
        "  return len_threshold, bin_bl_score, fig"
      ],
      "execution_count": 20,
      "outputs": []
    },
    {
      "cell_type": "code",
      "metadata": {
        "colab": {
          "base_uri": "https://localhost:8080/",
          "height": 346,
          "referenced_widgets": [
            "9b23f854c0d94d2a994ede5ce1c09f55",
            "1d99c072419a429db590c3004a4fadb3",
            "fb9e9aa6ee4b4bb1834a435b183f4848",
            "b32bc8aa655b41d9b15955447028a195",
            "60b933cd0942477a8648ef452b90a51a",
            "70c798d056a94e69adaa890fbdfd7e89",
            "92ec903de9d846c88cb0a81dcb248185",
            "ac4d1c908cd24a5d838504df3b93cec8"
          ]
        },
        "id": "W7n7O5-3Lpcn",
        "outputId": "b945912c-d9ac-423c-c0b2-3ed9f05b6929"
      },
      "source": [
        "rnn_len_threshold, rnn_bin_bl, fig1 = get_binned_bl_score(encoder = encoder_wo_att, decoder = decoder_wo_att, val_dataset = transformed_dataset['validate'], attn_flag = False, beam_size = beam_size, location = plots_dir, collate = collate_fn_dict['validate'], lang_en = en_lang, lang_vi = vi_lang)\n"
      ],
      "execution_count": 21,
      "outputs": [
        {
          "output_type": "display_data",
          "data": {
            "application/vnd.jupyter.widget-view+json": {
              "model_id": "9b23f854c0d94d2a994ede5ce1c09f55",
              "version_minor": 0,
              "version_major": 2
            },
            "text/plain": [
              "HBox(children=(FloatProgress(value=0.0, max=6.0), HTML(value='')))"
            ]
          },
          "metadata": {
            "tags": []
          }
        },
        {
          "output_type": "stream",
          "text": [
            "\n"
          ],
          "name": "stdout"
        },
        {
          "output_type": "display_data",
          "data": {
            "image/png": "[encoded data removed]",
            "text/plain": [
              "<Figure size 432x288 with 1 Axes>"
            ]
          },
          "metadata": {
            "tags": []
          }
        }
      ]
    },
    {
      "cell_type": "code",
      "metadata": {
        "colab": {
          "base_uri": "https://localhost:8080/",
          "height": 346,
          "referenced_widgets": [
            "7e3c8e9bcb9c4d27a369d6c06b056284",
            "bb05075971fe40909f13ca4f2f784518",
            "c7c1696f654e418aa8750d8f701a324b",
            "915c2122b445482a919163d1954c3264",
            "285c7296ef1e49f580fb53de1a43a2c7",
            "e9920febf3e34e129d0122b01ac11ce9",
            "a6629968749b4138a611f61551f5e628",
            "0a7265555cf741dd999d08dfe3b39c09"
          ]
        },
        "id": "66AEn_C2_S1J",
        "outputId": "5c39cfe5-c7f2-4029-be2d-5630c9eb88f3"
      },
      "source": [
        "attn_len_threshold, attn_bin_bl, fig2 = get_binned_bl_score(encoder = encoder_w_att, decoder = decoder_w_att, val_dataset = transformed_dataset['validate'], attn_flag = attn_flag, beam_size = beam_size, location = plots_dir, collate = collate_fn_dict['validate'], lang_en = en_lang, lang_vi = vi_lang)\n"
      ],
      "execution_count": 22,
      "outputs": [
        {
          "output_type": "display_data",
          "data": {
            "application/vnd.jupyter.widget-view+json": {
              "model_id": "7e3c8e9bcb9c4d27a369d6c06b056284",
              "version_minor": 0,
              "version_major": 2
            },
            "text/plain": [
              "HBox(children=(FloatProgress(value=0.0, max=6.0), HTML(value='')))"
            ]
          },
          "metadata": {
            "tags": []
          }
        },
        {
          "output_type": "stream",
          "text": [
            "\n"
          ],
          "name": "stdout"
        },
        {
          "output_type": "display_data",
          "data": {
            "image/png": "[encoded data removed]",
            "text/plain": [
              "<Figure size 432x288 with 1 Axes>"
            ]
          },
          "metadata": {
            "tags": []
          }
        }
      ]
    },
    {
      "cell_type": "code",
      "metadata": {
        "colab": {
          "base_uri": "https://localhost:8080/",
          "height": 297
        },
        "id": "0Uq3ZM-IPmQD",
        "outputId": "ab71d3f6-29ec-4425-96cf-6c461524517e"
      },
      "source": [
        "plt.style.use('seaborn-white')\n",
        "plt.plot(rnn_len_threshold, rnn_bin_bl, '--x', markersize=10, label = 'w/o attn')\n",
        "plt.plot(attn_len_threshold, attn_bin_bl, '--x', markersize=10, label = 'attn')\n",
        "plt.xlabel('sentence length')\n",
        "plt.ylabel('BLEU score')\n",
        "plt.title('BLEU Score vs. Sentence Length')\n",
        "plt.tight_layout()\n",
        "plt.legend()\n",
        "plt.show()"
      ],
      "execution_count": 23,
      "outputs": [
        {
          "output_type": "display_data",
          "data": {
            "image/png": "[encoded data removed]",
            "text/plain": [
              "<Figure size 432x288 with 1 Axes>"
            ]
          },
          "metadata": {
            "tags": []
          }
        }
      ]
    },
    {
      "cell_type": "code",
      "metadata": {
        "id": "OmC_7BsTSuXi"
      },
      "source": [
        "def showAttention(input_sentence, output_words, attentions):\n",
        "    # Set up figure with colorbar\n",
        "    plt.style.use('default')\n",
        "    fig = plt.figure()\n",
        "    ax = fig.add_subplot(111)\n",
        "    attentions = attentions.cpu().squeeze(1).detach().numpy()\n",
        "    cax = ax.matshow(attentions, cmap='copper', aspect='auto')\n",
        " \n",
        "    fig.colorbar(cax)\n",
        "\n",
        "    # Set up axes\n",
        "    ax.set_xticklabels([''] + input_sentence.split(' ') +\n",
        "                       ['<EOS>'], rotation=90)\n",
        "    ax.set_yticklabels([''] + output_words.split(' ')+\n",
        "                       ['<EOS>']);\n",
        "\n",
        "    # Show label at every tick\n",
        "    ax.xaxis.set_major_locator(ticker.MultipleLocator(1))\n",
        "    ax.yaxis.set_major_locator(ticker.MultipleLocator(1))"
      ],
      "execution_count": 24,
      "outputs": []
    },
    {
      "cell_type": "code",
      "metadata": {
        "id": "T_W7J5lySEXR"
      },
      "source": [
        "bleu_no_unk, att_score_wo, pred_wo, src_wo = train_utilities.validation_beam_search(encoder_w_att, decoder_w_att, dataloader['validate'], en_lang, vi_lang, 'attention', beam_size, verbose = False)"
      ],
      "execution_count": 25,
      "outputs": []
    },
    {
      "cell_type": "code",
      "metadata": {
        "colab": {
          "base_uri": "https://localhost:8080/"
        },
        "id": "le7P9Y7DRnIE",
        "outputId": "a292bd40-014a-41f0-d2a3-e8a4e658021d"
      },
      "source": [
        "bleu_no_unk"
      ],
      "execution_count": 26,
      "outputs": [
        {
          "output_type": "execute_result",
          "data": {
            "text/plain": [
              "23.557189110604167"
            ]
          },
          "metadata": {
            "tags": []
          },
          "execution_count": 26
        }
      ]
    },
    {
      "cell_type": "code",
      "metadata": {
        "colab": {
          "base_uri": "https://localhost:8080/"
        },
        "id": "vVxnzUlkZQUT",
        "outputId": "f51a2311-1728-463f-a221-f7a68114806e"
      },
      "source": [
        "# get 5 indexes for short sentences\n",
        "count = 0\n",
        "for i in range(len(pred_wo)):\n",
        "  if count == 5:\n",
        "    break\n",
        "  if len(pred_wo[i]) < 30:\n",
        "    print(i, end = ',')\n",
        "    count += 1\n",
        "    "
      ],
      "execution_count": 30,
      "outputs": [
        {
          "output_type": "stream",
          "text": [
            "9,21,35,38,74,"
          ],
          "name": "stdout"
        }
      ]
    },
    {
      "cell_type": "code",
      "metadata": {
        "colab": {
          "base_uri": "https://localhost:8080/",
          "height": 465
        },
        "id": "Lvz9HoCTS4Bd",
        "outputId": "8e237dc0-86ae-420d-ca6d-028fa1b5d3b1"
      },
      "source": [
        "n = 21\n",
        "showAttention(src_wo[n],pred_wo[n], att_score_wo[n])"
      ],
      "execution_count": 28,
      "outputs": [
        {
          "output_type": "display_data",
          "data": {
            "image/png": "[encoded data removed]",
            "text/plain": [
              "<Figure size 640x480 with 2 Axes>"
            ]
          },
          "metadata": {
            "tags": []
          }
        }
      ]
    }
  ]
}